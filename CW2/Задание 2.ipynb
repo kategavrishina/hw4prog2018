{
 "cells": [
  {
   "cell_type": "code",
   "execution_count": 8,
   "metadata": {},
   "outputs": [
    {
     "name": "stdout",
     "output_type": "stream",
     "text": [
      "Введите имя: Лена\n",
      "Такого имени нет в телефонной книге. Добавьте номер: 89370560285\n",
      "Обновленный справочник: {'Вася': 89569269461, 'Маша': 89670269425, 'Петя': 89768103628, 'Лена': 89370560285}\n"
     ]
    }
   ],
   "source": [
    "def dic(d):\n",
    "    name = input('Введите имя: ')\n",
    "    if d.get(name) is None:\n",
    "        d[name] = d.get(name, int(input(\"Такого имени нет в телефонной книге. Добавьте номер: \")))\n",
    "        print(\"Обновленный справочник:\", d)\n",
    "    else:\n",
    "        print('Номер:', d.get(name))\n",
    "    \n",
    "def main():\n",
    "    dic({\"Вася\": 89569269461, \"Маша\": 89670269425, \"Петя\": 89768103628})\n",
    "    \n",
    "if __name__=='__main__':\n",
    "    main()"
   ]
  }
 ],
 "metadata": {
  "kernelspec": {
   "display_name": "Python 3",
   "language": "python",
   "name": "python3"
  },
  "language_info": {
   "codemirror_mode": {
    "name": "ipython",
    "version": 3
   },
   "file_extension": ".py",
   "mimetype": "text/x-python",
   "name": "python",
   "nbconvert_exporter": "python",
   "pygments_lexer": "ipython3",
   "version": "3.6.5"
  }
 },
 "nbformat": 4,
 "nbformat_minor": 2
}
